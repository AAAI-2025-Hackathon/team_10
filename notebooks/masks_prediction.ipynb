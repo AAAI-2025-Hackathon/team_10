{
 "cells": [
  {
   "cell_type": "markdown",
   "metadata": {},
   "source": [
    "# Prediction of resection masks for focal epilepsy\n",
    "\n",
    "This notebook contains the code for the prediction of resection masks for focal epilepsy. It is based on the dataset IDEAS from OpenNeuro.\n",
    "\n",
    "The following steps will be provided by the notebook:\n",
    "\n",
    "1. Loading and structuring the data for training\n",
    "2. Building the unet model\n",
    "3. Training the model on the given dataset\n",
    "4. Prediction of the resection masks for the test set"
   ]
  }
 ],
 "metadata": {
  "language_info": {
   "name": "python"
  }
 },
 "nbformat": 4,
 "nbformat_minor": 2
}
